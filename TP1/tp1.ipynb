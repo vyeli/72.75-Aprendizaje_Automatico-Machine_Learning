{
 "cells": [
  {
   "cell_type": "markdown",
   "id": "3d3ee81e-8c19-4bbe-adde-543dc38de9fe",
   "metadata": {},
   "source": [
    "# Ejercicio 1"
   ]
  },
  {
   "cell_type": "code",
   "execution_count": 55,
   "id": "ae43cf05-9951-43c0-a836-308fbb90f1df",
   "metadata": {},
   "outputs": [
    {
     "name": "stdout",
     "output_type": "stream",
     "text": [
      "(0.03716502587359729, 'E')\n",
      "(0.018589743589743593, 'I')\n",
      "\n",
      "(0.0015605655921302178, 'E')\n",
      "(0.010256410256410256, 'I')\n"
     ]
    }
   ],
   "source": [
    "import pandas as pd\n",
    "\n",
    "def naive_bayes_classifier(df, values):\n",
    "    grouped_classes = df.groupby('Nacionalidad')\n",
    "    class_amount = len(df['Nacionalidad'].unique())\n",
    "    class_probabilities = []\n",
    "    attribute_probabilities = {}\n",
    "    for _class, grouped in grouped_classes:\n",
    "        data_len = len(grouped)\n",
    "        total_len = len(df.index)\n",
    "        class_probabilities.append(data_len / total_len)\n",
    "        attribute_probabilities[_class] = []\n",
    "        for attribute in df.columns[0:-1]:    # Skipping last column (Nacionalidad)\n",
    "            attribute_probabilities[_class].append(grouped[attribute].mean())\n",
    "        for i in range(len(attribute_probabilities[_class])):\n",
    "            attribute_probabilities[_class][i] = (attribute_probabilities[_class][i] * total_len + 1) / (total_len + class_amount)\n",
    "    # Calculate most probable class\n",
    "    user_probability = []\n",
    "    all_attributes_probability = \n",
    "    classes = []\n",
    "    j = 0\n",
    "    for classname, probabilities in attribute_probabilities.items():\n",
    "        classes.append(classname)\n",
    "        user_probability.append(class_probabilities[j])\n",
    "        for attribute_probability in probabilities:\n",
    "            if values[j] == 1:\n",
    "                user_probability[j] *= attribute_probability\n",
    "            else:\n",
    "                user_probability[j] *= (1 - attribute_probability)\n",
    "        j += 1\n",
    "    for value in zip(user_probability, classes):\n",
    "        print(value)\n",
    "\n",
    "file = 'inputs/PreferenciasBritanicos.xlsx'\n",
    "brits_df = pd.read_excel(file)\n",
    "\n",
    "# 1.B\n",
    "naive_bayes_classifier(brits_df, [1, 0, 1, 1, 1])\n",
    "print()\n",
    "# 1.C\n",
    "naive_bayes_classifier(brits_df, [0, 1, 1, 0, 1])"
   ]
  },
  {
   "cell_type": "code",
   "execution_count": null,
   "id": "e6582234-90f7-4e76-9aca-e4d37f381b99",
   "metadata": {},
   "outputs": [],
   "source": []
  }
 ],
 "metadata": {
  "kernelspec": {
   "display_name": "Python 3 (ipykernel)",
   "language": "python",
   "name": "python3"
  },
  "language_info": {
   "codemirror_mode": {
    "name": "ipython",
    "version": 3
   },
   "file_extension": ".py",
   "mimetype": "text/x-python",
   "name": "python",
   "nbconvert_exporter": "python",
   "pygments_lexer": "ipython3",
   "version": "3.11.0"
  }
 },
 "nbformat": 4,
 "nbformat_minor": 5
}
