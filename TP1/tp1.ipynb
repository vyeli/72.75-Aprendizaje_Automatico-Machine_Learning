{
 "cells": [
  {
   "cell_type": "markdown",
   "id": "3d3ee81e-8c19-4bbe-adde-543dc38de9fe",
   "metadata": {},
   "source": [
    "# Ejercicio 1"
   ]
  },
  {
   "cell_type": "code",
   "execution_count": 96,
   "id": "ae43cf05-9951-43c0-a836-308fbb90f1df",
   "metadata": {},
   "outputs": [
    {
     "name": "stdout",
     "output_type": "stream",
     "text": [
      "I 0.22885416666666664\n",
      "E 0.8406887755102038\n",
      "\n",
      "I 0.4023809523809524\n",
      "E 0.5912536443148686\n"
     ]
    }
   ],
   "source": [
    "import pandas as pd\n",
    "\n",
    "class NaiveBayesClassifier:\n",
    "\n",
    "    def train(self, df):\n",
    "        grouped_classes = df.groupby('Nacionalidad')\n",
    "        self.classes = df['Nacionalidad'].unique()\n",
    "        class_amount = len(self.classes)\n",
    "        self.attributes = df.columns[0: -1]\n",
    "        self.class_probabilities = {}\n",
    "        self.attribute_probabilities = {}\n",
    "        self.total_attribute_probabilities = {}\n",
    "        for _class, grouped in grouped_classes:\n",
    "            data_len = len(grouped)\n",
    "            total_len = len(df.index)\n",
    "            self.class_probabilities[_class] =data_len / total_len\n",
    "            self.attribute_probabilities[_class] = {}\n",
    "            for attribute in df.columns[0:-1]:    # Skipping last column (Nacionalidad)\n",
    "                self.attribute_probabilities[_class][attribute] = grouped[attribute].sum() /data_len\n",
    "        for attribute in df.columns[0: -1]:\n",
    "            self.total_attribute_probabilities[attribute] = df[attribute].sum()/ total_len\n",
    "    \n",
    "    def print_probabilities(self, values):\n",
    "        prediction = {}\n",
    "        for _class in self.classes:\n",
    "            probability = self.class_probabilities[_class]\n",
    "            total_probability = 1.0\n",
    "            for i,value in enumerate(values):\n",
    "                if value != 0:\n",
    "                    probability *= self.attribute_probabilities[_class][self.attributes[i]]\n",
    "                    total_probability *= self.total_attribute_probabilities[self.attributes[i]] \n",
    "            prediction[_class] = probability/total_probability\n",
    "        for _class,value in prediction.items():\n",
    "            print(_class,value)\n",
    "\n",
    "\n",
    "file = 'inputs/PreferenciasBritanicos.xlsx'\n",
    "brits_df = pd.read_excel(file)\n",
    "classifier = NaiveBayesClassifier()\n",
    "classifier.train(brits_df)\n",
    "# 1.B\n",
    "classifier.print_probabilities([1, 0, 1, 1, 1])\n",
    "print()\n",
    "# 1.C\n",
    "classifier.print_probabilities([0, 1, 1, 0, 1])"
   ]
  },
  {
   "cell_type": "markdown",
   "id": "11587fba",
   "metadata": {},
   "source": [
    "# Ejercicio 2\n",
    "\n",
    "## Paso 1: preprocesamiento del dataset\n",
    "Primero necesitamos hacer un preprocesamiento de los datos. Para esto decidimos reducir el dataset a 4 categorías, preferencialmente que no guarden demasiada correlación entre ellas en cuanto a las palabras utilizadas y asegurarnos que el modelo logre diferenciarlas correctamente sin tener que lidiar con las otras categorías. Una vez que el objetivo sea cumplido agregaremos devuelta las categorías filtradas para utilizar el dataset completo."
   ]
  },
  {
   "cell_type": "markdown",
   "id": "5c48324d",
   "metadata": {},
   "source": [
    "Para el preprocesamiento de los titulos utilizaremos tecnicas utilizadas en NLP y las aplicaremos a los titulos, procedemos a la tokenización de las palabras en los titulos,  "
   ]
  },
  {
   "cell_type": "code",
   "execution_count": 100,
   "id": "96e569ea-e095-4385-a562-4d6c74c5e26b",
   "metadata": {},
   "outputs": [
    {
     "name": "stdout",
     "output_type": "stream",
     "text": [
      "{'Nacional': 9.797700858272893e-27, 'Ciencia y Tecnologia': 3.5620939946273e-27, 'Deportes': 3.8314053918028403e-16, 'Salud': 3.3577926800814774e-28}\n",
      "Predicted Category: Deportes\n"
     ]
    }
   ],
   "source": [
    "import re\n",
    "import nltk\n",
    "import pandas as pd\n",
    "from collections import defaultdict\n",
    "from nltk.corpus import stopwords\n",
    "from nltk.stem import SnowballStemmer\n",
    "from sklearn.feature_extraction.text import CountVectorizer\n",
    "\n",
    "def preprocess_text_spanish(text):\n",
    "    # Convert to lowercase and remove punctuation\n",
    "    text = re.sub(r'[^\\w\\s]', '', text.lower())\n",
    "    \n",
    "    # Tokenization\n",
    "    tokens = text.split()\n",
    "    \n",
    "    # Remove stop words\n",
    "    stop_words = set(stopwords.words(\"spanish\"))\n",
    "    tokens = [token for token in tokens if token not in stop_words]\n",
    "    \n",
    "    # Stemming (use SnowballStemmer for Spanish)\n",
    "    stemmer = SnowballStemmer(\"spanish\")\n",
    "    tokens = [stemmer.stem(token) for token in tokens]\n",
    "    \n",
    "    return tokens\n",
    "\n",
    "file = 'inputs/NoticiasArgentinas.xlsx'\n",
    "news_df = pd.read_excel(file)\n",
    "accepted_cats = ['Nacional', 'Deportes', 'Salud', 'Ciencia y Tecnologia']\n",
    "filtered_df = news_df[news_df['categoria'].isin(accepted_cats)]\n",
    "labels = filtered_df['categoria']\n",
    "\n",
    "preprocessed_titles = [preprocess_text_spanish(title) for title in filtered_df['titular']] # a cada titular le aplico la función\n",
    "preprocessed_titles_strings = [\" \".join(tokens) for tokens in preprocessed_titles]\n",
    "vectorizer = CountVectorizer()\n",
    "X = vectorizer.fit_transform(preprocessed_titles_strings)\n",
    "\n",
    "# Build the vocabulary\n",
    "vocabulary = vectorizer.get_feature_names_out()\n",
    "vocabulary_size = len(vocabulary)\n",
    "\n",
    "class_frequency_map = labels.value_counts(normalize=True).to_dict() #calcula la frecuencia relativa para cada clase\n",
    "word_freq_per_class = defaultdict(lambda: defaultdict(lambda: 0))\n",
    "total_tokens_per_class = defaultdict(int)\n",
    "\n",
    "# Count word occurrences in each class\n",
    "for i, doc in enumerate(X):\n",
    "    tokens = preprocessed_titles[i]\n",
    "    total_tokens_per_class[labels.iloc[i]] += len(tokens)\n",
    "    for word_idx in doc.indices:\n",
    "        word = vocabulary[word_idx]\n",
    "        for token in tokens:\n",
    "            word_freq_per_class[token][labels.iloc[i]] += 1\n",
    "\n",
    "# Example new title to classify\n",
    "new_title = \"Paulo Gazzaniga, el arquero sorpresa de Lionel Scaloni\"\n",
    "\n",
    "# Preprocess the new title\n",
    "new_title_tokens = preprocess_text_spanish(new_title)\n",
    "\n",
    "# Calculate conditional probabilities\n",
    "predicted_probabilities = {}\n",
    "for class_label in class_frequency_map.keys():\n",
    "    class_frequency = class_frequency_map[class_label]\n",
    "    prob_word_given_class = 1.0\n",
    "    for token in new_title_tokens:\n",
    "        word_freq = word_freq_per_class[token][class_label]\n",
    "        if word_freq==0:\n",
    "        # Applying Laplace smoothing\n",
    "            prob_word_given_class *= (word_freq + 1) / (total_tokens_per_class[class_label] + vocabulary_size)\n",
    "        else:\n",
    "             prob_word_given_class*= word_freq / total_tokens_per_class[class_label]\n",
    "    predicted_probabilities[class_label] = class_frequency *  prob_word_given_class\n",
    "\n",
    "# Predict the category with the highest probability\n",
    "print(predicted_probabilities)\n",
    "predicted_category = max(predicted_probabilities, key=predicted_probabilities.get)\n",
    "print(\"Predicted Category:\", predicted_category)\n",
    "\n"
   ]
  },
  {
   "cell_type": "code",
   "execution_count": null,
   "id": "c4e9447c-d006-4ddb-b8e1-5e55e03e0ac4",
   "metadata": {},
   "outputs": [],
   "source": []
  }
 ],
 "metadata": {
  "kernelspec": {
   "display_name": "Python 3 (ipykernel)",
   "language": "python",
   "name": "python3"
  },
  "language_info": {
   "codemirror_mode": {
    "name": "ipython",
    "version": 3
   },
   "file_extension": ".py",
   "mimetype": "text/x-python",
   "name": "python",
   "nbconvert_exporter": "python",
   "pygments_lexer": "ipython3",
   "version": "3.10.11"
  }
 },
 "nbformat": 4,
 "nbformat_minor": 5
}
