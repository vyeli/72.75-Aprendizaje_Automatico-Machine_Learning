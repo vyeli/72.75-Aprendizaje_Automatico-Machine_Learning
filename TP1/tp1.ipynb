{
 "cells": [
  {
   "cell_type": "markdown",
   "id": "3d3ee81e-8c19-4bbe-adde-543dc38de9fe",
   "metadata": {},
   "source": [
    "# Ejercicio 1"
   ]
  },
  {
   "cell_type": "code",
   "execution_count": 1,
   "id": "ae43cf05-9951-43c0-a836-308fbb90f1df",
   "metadata": {},
   "outputs": [
    {
     "name": "stdout",
     "output_type": "stream",
     "text": [
      "(0.03716502587359729, 'I')\n",
      "(0.018589743589743593, 'E')\n",
      "\n",
      "(0.0015605655921302178, 'I')\n",
      "(0.010256410256410256, 'E')\n"
     ]
    }
   ],
   "source": [
    "import pandas as pd\n",
    "\n",
    "class NaiveBayesClassifier:\n",
    "\n",
    "    def train(self, df):\n",
    "        grouped_classes = df.groupby('Nacionalidad')\n",
    "        self.classes = df['Nacionalidad'].unique()\n",
    "        class_amount = len(self.classes)\n",
    "        self.class_probabilities = []\n",
    "        self.attribute_probabilities = {}\n",
    "        for _class, grouped in grouped_classes:\n",
    "            data_len = len(grouped)\n",
    "            total_len = len(df.index)\n",
    "            self.class_probabilities.append(data_len / total_len)\n",
    "            self.attribute_probabilities[_class] = []\n",
    "            for attribute in df.columns[0:-1]:    # Skipping last column (Nacionalidad)\n",
    "                self.attribute_probabilities[_class].append(grouped[attribute].mean())\n",
    "            for i in range(len(self.attribute_probabilities[_class])):\n",
    "                self.attribute_probabilities[_class][i] = (self.attribute_probabilities[_class][i] * total_len + 1) / (total_len + class_amount)\n",
    "    \n",
    "    def print_probabilities(self, values):\n",
    "        user_probability = []\n",
    "        j = 0\n",
    "        for classname, probabilities in self.attribute_probabilities.items():\n",
    "            user_probability.append(self.class_probabilities[j])\n",
    "            for attribute_probability in probabilities:\n",
    "                if values[j] == 1:\n",
    "                    user_probability[j] *= attribute_probability\n",
    "                else:\n",
    "                    user_probability[j] *= (1 - attribute_probability)\n",
    "            j += 1\n",
    "        for value in zip(user_probability, self.classes):\n",
    "            print(value)\n",
    "\n",
    "\n",
    "file = 'inputs/PreferenciasBritanicos.xlsx'\n",
    "brits_df = pd.read_excel(file)\n",
    "classifier = NaiveBayesClassifier()\n",
    "classifier.train(brits_df)\n",
    "# 1.B\n",
    "classifier.print_probabilities([1, 0, 1, 1, 1])\n",
    "print()\n",
    "# 1.C\n",
    "classifier.print_probabilities([0, 1, 1, 0, 1])"
   ]
  },
  {
   "cell_type": "code",
   "execution_count": null,
   "id": "e6582234-90f7-4e76-9aca-e4d37f381b99",
   "metadata": {},
   "outputs": [],
   "source": []
  }
 ],
 "metadata": {
  "kernelspec": {
   "display_name": "Python 3 (ipykernel)",
   "language": "python",
   "name": "python3"
  },
  "language_info": {
   "codemirror_mode": {
    "name": "ipython",
    "version": 3
   },
   "file_extension": ".py",
   "mimetype": "text/x-python",
   "name": "python",
   "nbconvert_exporter": "python",
   "pygments_lexer": "ipython3",
   "version": "3.11.0"
  }
 },
 "nbformat": 4,
 "nbformat_minor": 5
}
